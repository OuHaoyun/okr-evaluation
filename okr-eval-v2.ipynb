{
 "cells": [
  {
   "cell_type": "code",
   "execution_count": 1,
   "metadata": {},
   "outputs": [],
   "source": [
    "import pandas as pd\n",
    "\n",
    "\n",
    "\n",
    "from constants import okr_excel_path, researcher_info_excel_path\n",
    "# from constants import sheet_name\n",
    "# from constants import okr_sheet_name\n",
    "\n",
    "from utils import get_df_roadshow\n",
    "from utils import print_na_rate"
   ]
  },
  {
   "cell_type": "code",
   "execution_count": 2,
   "metadata": {},
   "outputs": [],
   "source": [
    "# # Get the Excel file\n",
    "# xls = pd.ExcelFile(excel_path)\n",
    "\n",
    "# # Get sheet names\n",
    "# sheet_names = xls.sheet_names\n",
    "# print(sheet_names)  # e.g., ['Sheet1', 'Sheet2', ...]\n",
    "\n",
    "# # Close the Excel file\n",
    "# xls.close()"
   ]
  },
  {
   "cell_type": "code",
   "execution_count": 3,
   "metadata": {},
   "outputs": [],
   "source": [
    "df_okr = pd.read_excel(okr_excel_path, sheet_name='路演')"
   ]
  },
  {
   "cell_type": "code",
   "execution_count": 4,
   "metadata": {},
   "outputs": [
    {
     "name": "stdout",
     "output_type": "stream",
     "text": [
      "<class 'pandas.core.frame.DataFrame'>\n",
      "RangeIndex: 2728 entries, 0 to 2727\n",
      "Data columns (total 23 columns):\n",
      " #   Column       Non-Null Count  Dtype  \n",
      "---  ------       --------------  -----  \n",
      " 0   序号           2728 non-null   int64  \n",
      " 1   日期           2728 non-null   object \n",
      " 2   开始时间         2728 non-null   object \n",
      " 3   结束时间         2728 non-null   object \n",
      " 4   服务事项         2728 non-null   object \n",
      " 5   研究员          2726 non-null   object \n",
      " 6   研究员.1        159 non-null    object \n",
      " 7   研究员.2        4 non-null      object \n",
      " 8   研究员.3        1 non-null      object \n",
      " 9   研究员.4        0 non-null      float64\n",
      " 10  研究员.5        0 non-null      float64\n",
      " 11  研究员.6        0 non-null      float64\n",
      " 12  所属团队         2497 non-null   object \n",
      " 13  客户机构         2727 non-null   object \n",
      " 14  客户分级         2675 non-null   object \n",
      " 15  客户区域         2674 non-null   object \n",
      " 16  对口销售         2674 non-null   object \n",
      " 17  参与人员         2726 non-null   object \n",
      " 18  主题           2726 non-null   object \n",
      " 19  备注           302 non-null    object \n",
      " 20  创建人          2726 non-null   object \n",
      " 21  Unnamed: 21  2726 non-null   object \n",
      " 22  Unnamed: 22  3 non-null      object \n",
      "dtypes: float64(3), int64(1), object(19)\n",
      "memory usage: 490.3+ KB\n"
     ]
    }
   ],
   "source": [
    "df_okr.info()"
   ]
  },
  {
   "cell_type": "code",
   "execution_count": 5,
   "metadata": {},
   "outputs": [
    {
     "name": "stdout",
     "output_type": "stream",
     "text": [
      "<class 'pandas.core.frame.DataFrame'>\n",
      "RangeIndex: 153 entries, 0 to 152\n",
      "Data columns (total 3 columns):\n",
      " #   Column  Non-Null Count  Dtype \n",
      "---  ------  --------------  ----- \n",
      " 0   姓名      153 non-null    object\n",
      " 1   研究团队    153 non-null    object\n",
      " 2   分析师等级   153 non-null    object\n",
      "dtypes: object(3)\n",
      "memory usage: 3.7+ KB\n"
     ]
    }
   ],
   "source": [
    "df_researcher_info = pd.read_excel(researcher_info_excel_path, usecols='A:C')\n",
    "df_researcher_info.info()"
   ]
  },
  {
   "cell_type": "code",
   "execution_count": 6,
   "metadata": {},
   "outputs": [
    {
     "data": {
      "text/html": [
       "<div>\n",
       "<style scoped>\n",
       "    .dataframe tbody tr th:only-of-type {\n",
       "        vertical-align: middle;\n",
       "    }\n",
       "\n",
       "    .dataframe tbody tr th {\n",
       "        vertical-align: top;\n",
       "    }\n",
       "\n",
       "    .dataframe thead th {\n",
       "        text-align: right;\n",
       "    }\n",
       "</style>\n",
       "<table border=\"1\" class=\"dataframe\">\n",
       "  <thead>\n",
       "    <tr style=\"text-align: right;\">\n",
       "      <th></th>\n",
       "      <th>姓名</th>\n",
       "      <th>研究团队</th>\n",
       "      <th>分析师等级</th>\n",
       "    </tr>\n",
       "  </thead>\n",
       "  <tbody>\n",
       "    <tr>\n",
       "      <th>0</th>\n",
       "      <td>方竞</td>\n",
       "      <td>电子</td>\n",
       "      <td>首席分析师</td>\n",
       "    </tr>\n",
       "    <tr>\n",
       "      <th>1</th>\n",
       "      <td>李萌</td>\n",
       "      <td>电子</td>\n",
       "      <td>资深分析师</td>\n",
       "    </tr>\n",
       "    <tr>\n",
       "      <th>2</th>\n",
       "      <td>李少青</td>\n",
       "      <td>电子</td>\n",
       "      <td>资深分析师</td>\n",
       "    </tr>\n",
       "    <tr>\n",
       "      <th>3</th>\n",
       "      <td>童秋涛</td>\n",
       "      <td>电子</td>\n",
       "      <td>资深分析师</td>\n",
       "    </tr>\n",
       "    <tr>\n",
       "      <th>4</th>\n",
       "      <td>吕天赐</td>\n",
       "      <td>电子</td>\n",
       "      <td>助理分析师</td>\n",
       "    </tr>\n",
       "    <tr>\n",
       "      <th>5</th>\n",
       "      <td>李伯语</td>\n",
       "      <td>电子</td>\n",
       "      <td>助理分析师</td>\n",
       "    </tr>\n",
       "    <tr>\n",
       "      <th>6</th>\n",
       "      <td>王琪</td>\n",
       "      <td>电子</td>\n",
       "      <td>助理分析师</td>\n",
       "    </tr>\n",
       "    <tr>\n",
       "      <th>7</th>\n",
       "      <td>宋晓东</td>\n",
       "      <td>电子</td>\n",
       "      <td>助理分析师</td>\n",
       "    </tr>\n",
       "    <tr>\n",
       "      <th>8</th>\n",
       "      <td>张文雨</td>\n",
       "      <td>电子</td>\n",
       "      <td>助理分析师</td>\n",
       "    </tr>\n",
       "    <tr>\n",
       "      <th>9</th>\n",
       "      <td>周君芝</td>\n",
       "      <td>宏观</td>\n",
       "      <td>首席分析师</td>\n",
       "    </tr>\n",
       "  </tbody>\n",
       "</table>\n",
       "</div>"
      ],
      "text/plain": [
       "    姓名 研究团队  分析师等级\n",
       "0   方竞   电子  首席分析师\n",
       "1   李萌   电子  资深分析师\n",
       "2  李少青   电子  资深分析师\n",
       "3  童秋涛   电子  资深分析师\n",
       "4  吕天赐   电子  助理分析师\n",
       "5  李伯语   电子  助理分析师\n",
       "6   王琪   电子  助理分析师\n",
       "7  宋晓东   电子  助理分析师\n",
       "8  张文雨   电子  助理分析师\n",
       "9  周君芝   宏观  首席分析师"
      ]
     },
     "execution_count": 6,
     "metadata": {},
     "output_type": "execute_result"
    }
   ],
   "source": [
    "df_researcher_info.head(10)"
   ]
  },
  {
   "cell_type": "code",
   "execution_count": 7,
   "metadata": {},
   "outputs": [],
   "source": [
    "df_roadshow = get_df_roadshow(df_okr)"
   ]
  },
  {
   "cell_type": "code",
   "execution_count": 8,
   "metadata": {},
   "outputs": [
    {
     "name": "stdout",
     "output_type": "stream",
     "text": [
      "<class 'pandas.core.frame.DataFrame'>\n",
      "RangeIndex: 2890 entries, 0 to 2889\n",
      "Data columns (total 7 columns):\n",
      " #   Column  Non-Null Count  Dtype \n",
      "---  ------  --------------  ----- \n",
      " 0   序号      2890 non-null   int64 \n",
      " 1   服务事项    2890 non-null   object\n",
      " 2   客户机构    2890 non-null   object\n",
      " 3   客户分级    2890 non-null   object\n",
      " 4   客户区域    2890 non-null   object\n",
      " 5   所属团队    2659 non-null   object\n",
      " 6   研究员     2890 non-null   object\n",
      "dtypes: int64(1), object(6)\n",
      "memory usage: 158.2+ KB\n"
     ]
    }
   ],
   "source": [
    "df_roadshow.info()"
   ]
  },
  {
   "cell_type": "code",
   "execution_count": 9,
   "metadata": {},
   "outputs": [
    {
     "data": {
      "text/html": [
       "<div>\n",
       "<style scoped>\n",
       "    .dataframe tbody tr th:only-of-type {\n",
       "        vertical-align: middle;\n",
       "    }\n",
       "\n",
       "    .dataframe tbody tr th {\n",
       "        vertical-align: top;\n",
       "    }\n",
       "\n",
       "    .dataframe thead th {\n",
       "        text-align: right;\n",
       "    }\n",
       "</style>\n",
       "<table border=\"1\" class=\"dataframe\">\n",
       "  <thead>\n",
       "    <tr style=\"text-align: right;\">\n",
       "      <th></th>\n",
       "      <th>序号</th>\n",
       "      <th>服务事项</th>\n",
       "      <th>客户机构</th>\n",
       "      <th>客户分级</th>\n",
       "      <th>客户区域</th>\n",
       "      <th>所属团队</th>\n",
       "      <th>研究员</th>\n",
       "    </tr>\n",
       "  </thead>\n",
       "  <tbody>\n",
       "    <tr>\n",
       "      <th>0</th>\n",
       "      <td>1</td>\n",
       "      <td>路演-线上路演</td>\n",
       "      <td>安联保险资产管理有限公司</td>\n",
       "      <td>A</td>\n",
       "      <td>北京</td>\n",
       "      <td>计算机</td>\n",
       "      <td>郭新宇</td>\n",
       "    </tr>\n",
       "    <tr>\n",
       "      <th>1</th>\n",
       "      <td>2</td>\n",
       "      <td>路演-餐叙路演</td>\n",
       "      <td>安信基金</td>\n",
       "      <td>3A</td>\n",
       "      <td>广深</td>\n",
       "      <td>计算机</td>\n",
       "      <td>刘雄</td>\n",
       "    </tr>\n",
       "    <tr>\n",
       "      <th>2</th>\n",
       "      <td>3</td>\n",
       "      <td>路演-线下路演</td>\n",
       "      <td>安信基金</td>\n",
       "      <td>3A</td>\n",
       "      <td>广深</td>\n",
       "      <td>医药</td>\n",
       "      <td>宋丽莹</td>\n",
       "    </tr>\n",
       "    <tr>\n",
       "      <th>3</th>\n",
       "      <td>4</td>\n",
       "      <td>路演-线下路演</td>\n",
       "      <td>安信基金</td>\n",
       "      <td>3A</td>\n",
       "      <td>广深</td>\n",
       "      <td>能源开采</td>\n",
       "      <td>周泰</td>\n",
       "    </tr>\n",
       "    <tr>\n",
       "      <th>4</th>\n",
       "      <td>5</td>\n",
       "      <td>路演-反路演(董秘/IR)</td>\n",
       "      <td>安信基金</td>\n",
       "      <td>3A</td>\n",
       "      <td>广深</td>\n",
       "      <td>电新</td>\n",
       "      <td>邓永康</td>\n",
       "    </tr>\n",
       "  </tbody>\n",
       "</table>\n",
       "</div>"
      ],
      "text/plain": [
       "   序号           服务事项          客户机构 客户分级 客户区域  所属团队  研究员\n",
       "0   1        路演-线上路演  安联保险资产管理有限公司    A   北京   计算机  郭新宇\n",
       "1   2        路演-餐叙路演          安信基金   3A   广深   计算机   刘雄\n",
       "2   3        路演-线下路演          安信基金   3A   广深    医药  宋丽莹\n",
       "3   4        路演-线下路演          安信基金   3A   广深  能源开采   周泰\n",
       "4   5  路演-反路演(董秘/IR)          安信基金   3A   广深    电新  邓永康"
      ]
     },
     "execution_count": 9,
     "metadata": {},
     "output_type": "execute_result"
    }
   ],
   "source": [
    "df_roadshow.head()"
   ]
  },
  {
   "cell_type": "code",
   "execution_count": 10,
   "metadata": {},
   "outputs": [],
   "source": [
    "# export to excel sheet roadshow\n",
    "df_roadshow.to_excel('roadshow.xlsx', sheet_name='roadshow', index=False)"
   ]
  },
  {
   "cell_type": "code",
   "execution_count": 11,
   "metadata": {},
   "outputs": [
    {
     "data": {
      "text/html": [
       "<div>\n",
       "<style scoped>\n",
       "    .dataframe tbody tr th:only-of-type {\n",
       "        vertical-align: middle;\n",
       "    }\n",
       "\n",
       "    .dataframe tbody tr th {\n",
       "        vertical-align: top;\n",
       "    }\n",
       "\n",
       "    .dataframe thead th {\n",
       "        text-align: right;\n",
       "    }\n",
       "</style>\n",
       "<table border=\"1\" class=\"dataframe\">\n",
       "  <thead>\n",
       "    <tr style=\"text-align: right;\">\n",
       "      <th></th>\n",
       "      <th>序号</th>\n",
       "      <th>服务事项</th>\n",
       "      <th>客户机构</th>\n",
       "      <th>客户分级</th>\n",
       "      <th>客户区域</th>\n",
       "      <th>所属团队</th>\n",
       "      <th>研究员</th>\n",
       "    </tr>\n",
       "  </thead>\n",
       "  <tbody>\n",
       "    <tr>\n",
       "      <th>1768</th>\n",
       "      <td>1659</td>\n",
       "      <td>路演-线下路演</td>\n",
       "      <td>国泰基金</td>\n",
       "      <td>4A</td>\n",
       "      <td>上海</td>\n",
       "      <td>策略</td>\n",
       "      <td>牟一凌</td>\n",
       "    </tr>\n",
       "  </tbody>\n",
       "</table>\n",
       "</div>"
      ],
      "text/plain": [
       "        序号     服务事项  客户机构 客户分级 客户区域 所属团队  研究员\n",
       "1768  1659  路演-线下路演  国泰基金   4A   上海   策略  牟一凌"
      ]
     },
     "execution_count": 11,
     "metadata": {},
     "output_type": "execute_result"
    }
   ],
   "source": [
    "# show rows where xuhao = 1659\n",
    "df_roadshow[df_roadshow['序号'] == 1659]"
   ]
  },
  {
   "cell_type": "code",
   "execution_count": 12,
   "metadata": {},
   "outputs": [
    {
     "name": "stdout",
     "output_type": "stream",
     "text": [
      "The na rate of the DataFrame is:\n",
      "序号      0.000000\n",
      "服务事项    0.000000\n",
      "客户机构    0.000000\n",
      "客户分级    0.000000\n",
      "客户区域    0.000000\n",
      "所属团队    0.079931\n",
      "研究员     0.000000\n",
      "dtype: float64\n"
     ]
    }
   ],
   "source": [
    "print_na_rate(df_roadshow)"
   ]
  },
  {
   "cell_type": "code",
   "execution_count": 13,
   "metadata": {},
   "outputs": [],
   "source": [
    "# map researcher name in df_roadshow to researcher id in df_researcher_info\n",
    "# add '研究团队' to df_roadshow based on the mapped name\n",
    "# df_roadshow['研究团队'] = df_roadshow['研究员'].map(df_researcher_info.set_index('姓名')['研究团队'])\n"
   ]
  },
  {
   "cell_type": "code",
   "execution_count": 14,
   "metadata": {},
   "outputs": [
    {
     "name": "stdout",
     "output_type": "stream",
     "text": [
      "The na rate of the DataFrame is:\n",
      "序号      0.000000\n",
      "服务事项    0.000000\n",
      "客户机构    0.000000\n",
      "客户分级    0.000000\n",
      "客户区域    0.000000\n",
      "所属团队    0.079931\n",
      "研究员     0.000000\n",
      "dtype: float64\n"
     ]
    }
   ],
   "source": [
    "print_na_rate(df_roadshow)"
   ]
  },
  {
   "cell_type": "code",
   "execution_count": 15,
   "metadata": {},
   "outputs": [
    {
     "data": {
      "text/html": [
       "<div>\n",
       "<style scoped>\n",
       "    .dataframe tbody tr th:only-of-type {\n",
       "        vertical-align: middle;\n",
       "    }\n",
       "\n",
       "    .dataframe tbody tr th {\n",
       "        vertical-align: top;\n",
       "    }\n",
       "\n",
       "    .dataframe thead th {\n",
       "        text-align: right;\n",
       "    }\n",
       "</style>\n",
       "<table border=\"1\" class=\"dataframe\">\n",
       "  <thead>\n",
       "    <tr style=\"text-align: right;\">\n",
       "      <th></th>\n",
       "      <th>序号</th>\n",
       "      <th>服务事项</th>\n",
       "      <th>客户机构</th>\n",
       "      <th>客户分级</th>\n",
       "      <th>客户区域</th>\n",
       "      <th>所属团队</th>\n",
       "      <th>研究员</th>\n",
       "    </tr>\n",
       "  </thead>\n",
       "  <tbody>\n",
       "  </tbody>\n",
       "</table>\n",
       "</div>"
      ],
      "text/plain": [
       "Empty DataFrame\n",
       "Columns: [序号, 服务事项, 客户机构, 客户分级, 客户区域, 所属团队, 研究员]\n",
       "Index: []"
      ]
     },
     "execution_count": 15,
     "metadata": {},
     "output_type": "execute_result"
    }
   ],
   "source": [
    "# print the rows that '客户分级' is null\n",
    "df_roadshow[df_roadshow['客户分级'].isnull()]"
   ]
  },
  {
   "cell_type": "code",
   "execution_count": 16,
   "metadata": {},
   "outputs": [
    {
     "data": {
      "text/html": [
       "<div>\n",
       "<style scoped>\n",
       "    .dataframe tbody tr th:only-of-type {\n",
       "        vertical-align: middle;\n",
       "    }\n",
       "\n",
       "    .dataframe tbody tr th {\n",
       "        vertical-align: top;\n",
       "    }\n",
       "\n",
       "    .dataframe thead th {\n",
       "        text-align: right;\n",
       "    }\n",
       "</style>\n",
       "<table border=\"1\" class=\"dataframe\">\n",
       "  <thead>\n",
       "    <tr style=\"text-align: right;\">\n",
       "      <th></th>\n",
       "      <th>序号</th>\n",
       "      <th>服务事项</th>\n",
       "      <th>客户机构</th>\n",
       "      <th>客户分级</th>\n",
       "      <th>客户区域</th>\n",
       "      <th>所属团队</th>\n",
       "      <th>研究员</th>\n",
       "    </tr>\n",
       "  </thead>\n",
       "  <tbody>\n",
       "    <tr>\n",
       "      <th>15</th>\n",
       "      <td>16</td>\n",
       "      <td>路演-专家路演</td>\n",
       "      <td>博时基金（深圳）</td>\n",
       "      <td>5A</td>\n",
       "      <td>广深</td>\n",
       "      <td>NaN</td>\n",
       "      <td>无研究员</td>\n",
       "    </tr>\n",
       "    <tr>\n",
       "      <th>43</th>\n",
       "      <td>39</td>\n",
       "      <td>路演-专家路演</td>\n",
       "      <td>大成基金</td>\n",
       "      <td>4A</td>\n",
       "      <td>广深</td>\n",
       "      <td>NaN</td>\n",
       "      <td>周慧敏</td>\n",
       "    </tr>\n",
       "    <tr>\n",
       "      <th>48</th>\n",
       "      <td>43</td>\n",
       "      <td>路演-反路演(董秘/IR)</td>\n",
       "      <td>大家资产</td>\n",
       "      <td>4A</td>\n",
       "      <td>北京</td>\n",
       "      <td>NaN</td>\n",
       "      <td>无研究员</td>\n",
       "    </tr>\n",
       "    <tr>\n",
       "      <th>54</th>\n",
       "      <td>48</td>\n",
       "      <td>路演-反路演(董秘/IR)</td>\n",
       "      <td>东方红资管</td>\n",
       "      <td>4A</td>\n",
       "      <td>上海</td>\n",
       "      <td>NaN</td>\n",
       "      <td>无研究员</td>\n",
       "    </tr>\n",
       "    <tr>\n",
       "      <th>59</th>\n",
       "      <td>53</td>\n",
       "      <td>路演-反路演(董事长/总经理)</td>\n",
       "      <td>东方红资管</td>\n",
       "      <td>4A</td>\n",
       "      <td>上海</td>\n",
       "      <td>NaN</td>\n",
       "      <td>无研究员</td>\n",
       "    </tr>\n",
       "    <tr>\n",
       "      <th>...</th>\n",
       "      <td>...</td>\n",
       "      <td>...</td>\n",
       "      <td>...</td>\n",
       "      <td>...</td>\n",
       "      <td>...</td>\n",
       "      <td>...</td>\n",
       "      <td>...</td>\n",
       "    </tr>\n",
       "    <tr>\n",
       "      <th>2798</th>\n",
       "      <td>2640</td>\n",
       "      <td>路演-反路演(董事长/总经理)</td>\n",
       "      <td>招商（上海）</td>\n",
       "      <td>4A</td>\n",
       "      <td>上海</td>\n",
       "      <td>NaN</td>\n",
       "      <td>无研究员</td>\n",
       "    </tr>\n",
       "    <tr>\n",
       "      <th>2803</th>\n",
       "      <td>2645</td>\n",
       "      <td>路演-线下路演</td>\n",
       "      <td>招商（上海）</td>\n",
       "      <td>4A</td>\n",
       "      <td>上海</td>\n",
       "      <td>NaN</td>\n",
       "      <td>胡又文</td>\n",
       "    </tr>\n",
       "    <tr>\n",
       "      <th>2846</th>\n",
       "      <td>2688</td>\n",
       "      <td>路演-餐叙路演</td>\n",
       "      <td>小范围路演</td>\n",
       "      <td>小范围路演</td>\n",
       "      <td>小范围路演</td>\n",
       "      <td>NaN</td>\n",
       "      <td>胡又文</td>\n",
       "    </tr>\n",
       "    <tr>\n",
       "      <th>2858</th>\n",
       "      <td>2698</td>\n",
       "      <td>路演-餐叙路演</td>\n",
       "      <td>泰康公募</td>\n",
       "      <td>5A</td>\n",
       "      <td>北京</td>\n",
       "      <td>NaN</td>\n",
       "      <td>张航旗</td>\n",
       "    </tr>\n",
       "    <tr>\n",
       "      <th>2859</th>\n",
       "      <td>2699</td>\n",
       "      <td>路演-反路演(董事长/总经理)</td>\n",
       "      <td>泰康公募</td>\n",
       "      <td>5A</td>\n",
       "      <td>北京</td>\n",
       "      <td>NaN</td>\n",
       "      <td>张航旗</td>\n",
       "    </tr>\n",
       "  </tbody>\n",
       "</table>\n",
       "<p>231 rows × 7 columns</p>\n",
       "</div>"
      ],
      "text/plain": [
       "        序号             服务事项      客户机构   客户分级   客户区域 所属团队   研究员\n",
       "15      16          路演-专家路演  博时基金（深圳）     5A     广深  NaN  无研究员\n",
       "43      39          路演-专家路演      大成基金     4A     广深  NaN   周慧敏\n",
       "48      43    路演-反路演(董秘/IR)      大家资产     4A     北京  NaN  无研究员\n",
       "54      48    路演-反路演(董秘/IR)     东方红资管     4A     上海  NaN  无研究员\n",
       "59      53  路演-反路演(董事长/总经理)     东方红资管     4A     上海  NaN  无研究员\n",
       "...    ...              ...       ...    ...    ...  ...   ...\n",
       "2798  2640  路演-反路演(董事长/总经理)    招商（上海）     4A     上海  NaN  无研究员\n",
       "2803  2645          路演-线下路演    招商（上海）     4A     上海  NaN   胡又文\n",
       "2846  2688          路演-餐叙路演     小范围路演  小范围路演  小范围路演  NaN   胡又文\n",
       "2858  2698          路演-餐叙路演      泰康公募     5A     北京  NaN   张航旗\n",
       "2859  2699  路演-反路演(董事长/总经理)      泰康公募     5A     北京  NaN   张航旗\n",
       "\n",
       "[231 rows x 7 columns]"
      ]
     },
     "execution_count": 16,
     "metadata": {},
     "output_type": "execute_result"
    }
   ],
   "source": [
    "# pront the rows that research team is null\n",
    "df_roadshow[df_roadshow['所属团队'].isnull()]"
   ]
  },
  {
   "cell_type": "code",
   "execution_count": 17,
   "metadata": {},
   "outputs": [],
   "source": [
    "# print rows that 'xuhao' is duplicated\n",
    "df_dup = df_roadshow[df_roadshow['序号'].duplicated()]"
   ]
  },
  {
   "cell_type": "code",
   "execution_count": 18,
   "metadata": {},
   "outputs": [
    {
     "name": "stdout",
     "output_type": "stream",
     "text": [
      "<class 'pandas.core.frame.DataFrame'>\n",
      "Index: 164 entries, 18 to 2875\n",
      "Data columns (total 7 columns):\n",
      " #   Column  Non-Null Count  Dtype \n",
      "---  ------  --------------  ----- \n",
      " 0   序号      164 non-null    int64 \n",
      " 1   服务事项    164 non-null    object\n",
      " 2   客户机构    164 non-null    object\n",
      " 3   客户分级    164 non-null    object\n",
      " 4   客户区域    164 non-null    object\n",
      " 5   所属团队    164 non-null    object\n",
      " 6   研究员     164 non-null    object\n",
      "dtypes: int64(1), object(6)\n",
      "memory usage: 10.2+ KB\n"
     ]
    }
   ],
   "source": [
    "df_dup.info()"
   ]
  },
  {
   "cell_type": "code",
   "execution_count": 19,
   "metadata": {},
   "outputs": [
    {
     "data": {
      "text/html": [
       "<div>\n",
       "<style scoped>\n",
       "    .dataframe tbody tr th:only-of-type {\n",
       "        vertical-align: middle;\n",
       "    }\n",
       "\n",
       "    .dataframe tbody tr th {\n",
       "        vertical-align: top;\n",
       "    }\n",
       "\n",
       "    .dataframe thead th {\n",
       "        text-align: right;\n",
       "    }\n",
       "</style>\n",
       "<table border=\"1\" class=\"dataframe\">\n",
       "  <thead>\n",
       "    <tr style=\"text-align: right;\">\n",
       "      <th></th>\n",
       "      <th>序号</th>\n",
       "      <th>服务事项</th>\n",
       "      <th>客户机构</th>\n",
       "      <th>客户分级</th>\n",
       "      <th>客户区域</th>\n",
       "      <th>所属团队</th>\n",
       "      <th>研究员</th>\n",
       "    </tr>\n",
       "  </thead>\n",
       "  <tbody>\n",
       "    <tr>\n",
       "      <th>18</th>\n",
       "      <td>18</td>\n",
       "      <td>路演-专家路演</td>\n",
       "      <td>博时基金（深圳）</td>\n",
       "      <td>5A</td>\n",
       "      <td>广深</td>\n",
       "      <td>通信</td>\n",
       "      <td>范宇</td>\n",
       "    </tr>\n",
       "    <tr>\n",
       "      <th>19</th>\n",
       "      <td>18</td>\n",
       "      <td>路演-专家路演</td>\n",
       "      <td>博时基金（深圳）</td>\n",
       "      <td>5A</td>\n",
       "      <td>广深</td>\n",
       "      <td>通信</td>\n",
       "      <td>于一铭</td>\n",
       "    </tr>\n",
       "    <tr>\n",
       "      <th>29</th>\n",
       "      <td>27</td>\n",
       "      <td>路演-反路演(董秘/IR)</td>\n",
       "      <td>财通基金</td>\n",
       "      <td>4A</td>\n",
       "      <td>上海</td>\n",
       "      <td>通信</td>\n",
       "      <td>于一铭</td>\n",
       "    </tr>\n",
       "    <tr>\n",
       "      <th>33</th>\n",
       "      <td>30</td>\n",
       "      <td>路演-线下路演</td>\n",
       "      <td>创金合信</td>\n",
       "      <td>3A</td>\n",
       "      <td>广深</td>\n",
       "      <td>金属</td>\n",
       "      <td>孙二春</td>\n",
       "    </tr>\n",
       "    <tr>\n",
       "      <th>38</th>\n",
       "      <td>34</td>\n",
       "      <td>路演-餐叙路演</td>\n",
       "      <td>大成基金</td>\n",
       "      <td>4A</td>\n",
       "      <td>广深</td>\n",
       "      <td>电新</td>\n",
       "      <td>邓永康</td>\n",
       "    </tr>\n",
       "  </tbody>\n",
       "</table>\n",
       "</div>"
      ],
      "text/plain": [
       "    序号           服务事项      客户机构 客户分级 客户区域 所属团队  研究员\n",
       "18  18        路演-专家路演  博时基金（深圳）   5A   广深   通信   范宇\n",
       "19  18        路演-专家路演  博时基金（深圳）   5A   广深   通信  于一铭\n",
       "29  27  路演-反路演(董秘/IR)      财通基金   4A   上海   通信  于一铭\n",
       "33  30        路演-线下路演      创金合信   3A   广深   金属  孙二春\n",
       "38  34        路演-餐叙路演      大成基金   4A   广深   电新  邓永康"
      ]
     },
     "execution_count": 19,
     "metadata": {},
     "output_type": "execute_result"
    }
   ],
   "source": [
    "df_dup.head()"
   ]
  },
  {
   "cell_type": "code",
   "execution_count": null,
   "metadata": {},
   "outputs": [],
   "source": []
  }
 ],
 "metadata": {
  "kernelspec": {
   "display_name": "okr-evaluation",
   "language": "python",
   "name": "python3"
  },
  "language_info": {
   "codemirror_mode": {
    "name": "ipython",
    "version": 3
   },
   "file_extension": ".py",
   "mimetype": "text/x-python",
   "name": "python",
   "nbconvert_exporter": "python",
   "pygments_lexer": "ipython3",
   "version": "3.11.5"
  },
  "orig_nbformat": 4
 },
 "nbformat": 4,
 "nbformat_minor": 2
}
