{
 "cells": [
  {
   "cell_type": "code",
   "execution_count": 1,
   "metadata": {},
   "outputs": [],
   "source": [
    "import os\n",
    "\n",
    "import pandas as pd\n",
    "\n",
    "from constants import okr_excel_path, researcher_info_excel_path, salesperson_info_excel_path, output_excel_path, txt_folder_path\n",
    "from utils import get_sales_name_list, get_sales_name_list, write_dfs_to_excel, print_na_rate\n",
    "from utils import get_df_roadshow, get_df_researcher, get_df_team, get_df_org\n",
    "from utils import get_df_dict, get_period_from_excel_name, write_df_to_txt, write_dict_to_txts\n",
    "\n"
   ]
  },
  {
   "cell_type": "code",
   "execution_count": 2,
   "metadata": {},
   "outputs": [],
   "source": [
    "df_okr = pd.read_excel(okr_excel_path, sheet_name='路演')\n",
    "df_researcher_info = pd.read_excel(researcher_info_excel_path, usecols='A:C')\n",
    "df_salespeople_info =  pd.read_excel(salesperson_info_excel_path)"
   ]
  },
  {
   "cell_type": "code",
   "execution_count": 3,
   "metadata": {},
   "outputs": [],
   "source": [
    "sales_name_list = get_sales_name_list(df_salespeople_info)"
   ]
  },
  {
   "cell_type": "code",
   "execution_count": 4,
   "metadata": {},
   "outputs": [],
   "source": [
    "df_roadshow, df_special = get_df_roadshow(df_okr, sales_name_list)\n",
    "df_researcher = get_df_researcher(df_roadshow)\n",
    "df_team = get_df_team(df_roadshow)\n",
    "df_org = get_df_org(df_researcher)"
   ]
  },
  {
   "cell_type": "code",
   "execution_count": 5,
   "metadata": {},
   "outputs": [],
   "source": [
    "# dfs_dict = {\n",
    "#             'roadshow': df_roadshow,\n",
    "#             'special': df_special,\n",
    "#             'researcher': df_researcher,\n",
    "#             'team': df_team\n",
    "#             }\n",
    "\n",
    "# write_dfs_to_excel(dfs_dict, okr_excel_path)"
   ]
  },
  {
   "cell_type": "code",
   "execution_count": 5,
   "metadata": {},
   "outputs": [],
   "source": [
    "df_researcher_dict = get_df_dict(df_researcher, ['研究员', '所属团队'], '路演指标', '路演次数')\n",
    "df_team_dict = get_df_dict(df_team, ['所属团队'], '路演指标', '路演次数')\n"
   ]
  },
  {
   "cell_type": "code",
   "execution_count": 6,
   "metadata": {},
   "outputs": [],
   "source": [
    "date = get_period_from_excel_name(okr_excel_path)  # replace this with the actual date\n"
   ]
  },
  {
   "cell_type": "code",
   "execution_count": 7,
   "metadata": {},
   "outputs": [
    {
     "name": "stdout",
     "output_type": "stream",
     "text": [
      "2023年5月\n"
     ]
    }
   ],
   "source": [
    "print(date)"
   ]
  },
  {
   "cell_type": "code",
   "execution_count": 9,
   "metadata": {},
   "outputs": [],
   "source": [
    "\n",
    "# Write txts for df_researcher_dict\n",
    "write_dict_to_txts(df_researcher_dict, '研究员绩效', txt_folder_path, date)\n",
    "\n",
    "# Write txts for df_team_dict\n",
    "write_dict_to_txts(df_team_dict, '团队绩效', txt_folder_path, date)\n",
    "\n",
    "# Write txt for df_org\n",
    "write_df_to_txt(df_org, '研究院绩效', txt_folder_path, date)"
   ]
  },
  {
   "cell_type": "code",
   "execution_count": null,
   "metadata": {},
   "outputs": [],
   "source": []
  }
 ],
 "metadata": {
  "kernelspec": {
   "display_name": "okr-evaluation",
   "language": "python",
   "name": "python3"
  },
  "language_info": {
   "codemirror_mode": {
    "name": "ipython",
    "version": 3
   },
   "file_extension": ".py",
   "mimetype": "text/x-python",
   "name": "python",
   "nbconvert_exporter": "python",
   "pygments_lexer": "ipython3",
   "version": "3.11.5"
  },
  "orig_nbformat": 4
 },
 "nbformat": 4,
 "nbformat_minor": 2
}
