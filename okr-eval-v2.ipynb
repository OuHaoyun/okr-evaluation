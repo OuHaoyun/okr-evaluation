{
 "cells": [
  {
   "cell_type": "code",
   "execution_count": 2,
   "metadata": {},
   "outputs": [],
   "source": [
    "import pandas as pd\n",
    "\n",
    "\n",
    "from constants import okr_excel_path, researcher_info_excel_path, salesperson_info_excel_path, output_excel_path\n",
    "from utils import get_df_roadshow, get_sales_name_list, get_sales_name_list\n",
    "from utils import print_na_rate"
   ]
  },
  {
   "cell_type": "code",
   "execution_count": 3,
   "metadata": {},
   "outputs": [],
   "source": [
    "# # Get the Excel file\n",
    "# xls = pd.ExcelFile(excel_path)\n",
    "\n",
    "# # Get sheet names\n",
    "# sheet_names = xls.sheet_names\n",
    "# print(sheet_names)  # e.g., ['Sheet1', 'Sheet2', ...]\n",
    "\n",
    "# # Close the Excel file\n",
    "# xls.close()"
   ]
  },
  {
   "cell_type": "code",
   "execution_count": 4,
   "metadata": {},
   "outputs": [],
   "source": [
    "df_okr = pd.read_excel(okr_excel_path, sheet_name='路演')\n",
    "df_researcher_info = pd.read_excel(researcher_info_excel_path, usecols='A:C')\n",
    "df_salespeople_info =  pd.read_excel(salesperson_info_excel_path)"
   ]
  },
  {
   "cell_type": "code",
   "execution_count": 5,
   "metadata": {},
   "outputs": [],
   "source": [
    "sales_name_list = get_sales_name_list(df_salespeople_info)"
   ]
  },
  {
   "cell_type": "code",
   "execution_count": 6,
   "metadata": {},
   "outputs": [
    {
     "name": "stdout",
     "output_type": "stream",
     "text": [
      "The empty value in \"序号\" or its preceding row is in row 352\n",
      "The empty value in \"序号\" or its preceding row is in row 353\n",
      "The empty value in \"序号\" or its preceding row is in row 476\n",
      "The empty value in \"序号\" or its preceding row is in row 477\n",
      "The empty value in \"序号\" or its preceding row is in row 478\n",
      "The empty value in \"序号\" or its preceding row is in row 568\n",
      "The empty value in \"序号\" or its preceding row is in row 569\n",
      "The empty value in \"序号\" or its preceding row is in row 650\n",
      "The empty value in \"序号\" or its preceding row is in row 651\n",
      "The empty value in \"序号\" or its preceding row is in row 652\n",
      "The empty value in \"序号\" or its preceding row is in row 763\n",
      "The empty value in \"序号\" or its preceding row is in row 764\n",
      "The empty value in \"序号\" or its preceding row is in row 786\n",
      "The empty value in \"序号\" or its preceding row is in row 787\n",
      "The empty value in \"序号\" or its preceding row is in row 788\n",
      "The empty value in \"序号\" or its preceding row is in row 789\n",
      "The empty value in \"序号\" or its preceding row is in row 790\n",
      "The empty value in \"序号\" or its preceding row is in row 1005\n",
      "The empty value in \"序号\" or its preceding row is in row 1006\n",
      "The empty value in \"序号\" or its preceding row is in row 1016\n",
      "The empty value in \"序号\" or its preceding row is in row 1017\n",
      "The empty value in \"序号\" or its preceding row is in row 1057\n",
      "The empty value in \"序号\" or its preceding row is in row 1058\n",
      "The empty value in \"序号\" or its preceding row is in row 1142\n",
      "The empty value in \"序号\" or its preceding row is in row 1143\n",
      "The empty value in \"序号\" or its preceding row is in row 1672\n",
      "The empty value in \"序号\" or its preceding row is in row 1673\n",
      "The empty value in \"序号\" or its preceding row is in row 1674\n",
      "The empty value in \"序号\" or its preceding row is in row 1675\n",
      "The empty value in \"序号\" or its preceding row is in row 1676\n",
      "The empty value in \"序号\" is treated.\n"
     ]
    }
   ],
   "source": [
    "df_roadshow, df_special = get_df_roadshow(df_okr, sales_name_list)"
   ]
  },
  {
   "cell_type": "code",
   "execution_count": 7,
   "metadata": {},
   "outputs": [
    {
     "name": "stdout",
     "output_type": "stream",
     "text": [
      "<class 'pandas.core.frame.DataFrame'>\n",
      "RangeIndex: 30 entries, 0 to 29\n",
      "Data columns (total 13 columns):\n",
      " #   Column  Non-Null Count  Dtype  \n",
      "---  ------  --------------  -----  \n",
      " 0   序号      30 non-null     float64\n",
      " 1   服务事项    30 non-null     object \n",
      " 2   客户机构    30 non-null     object \n",
      " 3   客户分级    30 non-null     object \n",
      " 4   客户区域    30 non-null     object \n",
      " 5   所属团队    30 non-null     object \n",
      " 6   研究员     12 non-null     object \n",
      " 7   研究员.1   12 non-null     object \n",
      " 8   研究员.2   9 non-null      object \n",
      " 9   研究员.3   4 non-null      object \n",
      " 10  研究员.4   1 non-null      object \n",
      " 11  研究员.5   1 non-null      object \n",
      " 12  研究员.6   0 non-null      float64\n",
      "dtypes: float64(2), object(11)\n",
      "memory usage: 3.2+ KB\n"
     ]
    }
   ],
   "source": [
    "df_special.info()"
   ]
  },
  {
   "cell_type": "code",
   "execution_count": 8,
   "metadata": {},
   "outputs": [
    {
     "name": "stdout",
     "output_type": "stream",
     "text": [
      "<class 'pandas.core.frame.DataFrame'>\n",
      "RangeIndex: 1948 entries, 0 to 1947\n",
      "Data columns (total 7 columns):\n",
      " #   Column  Non-Null Count  Dtype  \n",
      "---  ------  --------------  -----  \n",
      " 0   序号      1948 non-null   float64\n",
      " 1   服务事项    1948 non-null   object \n",
      " 2   客户机构    1948 non-null   object \n",
      " 3   客户分级    1948 non-null   object \n",
      " 4   客户区域    1948 non-null   object \n",
      " 5   所属团队    1948 non-null   object \n",
      " 6   研究员     1948 non-null   object \n",
      "dtypes: float64(1), object(6)\n",
      "memory usage: 106.7+ KB\n"
     ]
    }
   ],
   "source": [
    "df_roadshow.info()"
   ]
  },
  {
   "cell_type": "code",
   "execution_count": 9,
   "metadata": {},
   "outputs": [
    {
     "name": "stdout",
     "output_type": "stream",
     "text": [
      "The na rate of the DataFrame is:\n",
      "序号      0.0\n",
      "服务事项    0.0\n",
      "客户机构    0.0\n",
      "客户分级    0.0\n",
      "客户区域    0.0\n",
      "所属团队    0.0\n",
      "研究员     0.0\n",
      "dtype: float64\n"
     ]
    }
   ],
   "source": [
    "print_na_rate(df_roadshow)"
   ]
  },
  {
   "cell_type": "code",
   "execution_count": 10,
   "metadata": {},
   "outputs": [
    {
     "name": "stdout",
     "output_type": "stream",
     "text": [
      "<class 'pandas.core.frame.DataFrame'>\n",
      "RangeIndex: 1948 entries, 0 to 1947\n",
      "Data columns (total 7 columns):\n",
      " #   Column  Non-Null Count  Dtype  \n",
      "---  ------  --------------  -----  \n",
      " 0   序号      1948 non-null   float64\n",
      " 1   服务事项    1948 non-null   object \n",
      " 2   客户机构    1948 non-null   object \n",
      " 3   客户分级    1948 non-null   object \n",
      " 4   客户区域    1948 non-null   object \n",
      " 5   所属团队    1948 non-null   object \n",
      " 6   研究员     1948 non-null   object \n",
      "dtypes: float64(1), object(6)\n",
      "memory usage: 106.7+ KB\n"
     ]
    }
   ],
   "source": [
    "df_roadshow.info()"
   ]
  },
  {
   "cell_type": "code",
   "execution_count": 11,
   "metadata": {},
   "outputs": [],
   "source": [
    "# Ensure you have the openpyxl library installed\n",
    "# pip install openpyxl\n",
    "\n",
    "# Specify the output Excel file with the .xlsx extension\n",
    "# output_excel_path = 'output_file.xlsx'\n",
    "\n",
    "# Write to excel, df_roadshow to sheet roadshow, df_special to sheet special\n",
    "with pd.ExcelWriter(output_excel_path, engine='openpyxl') as writer:\n",
    "    df_roadshow.to_excel(writer, sheet_name='roadshow', index=False)\n",
    "    df_special.to_excel(writer, sheet_name='special', index=False)\n",
    "\n",
    "\n"
   ]
  },
  {
   "cell_type": "code",
   "execution_count": null,
   "metadata": {},
   "outputs": [],
   "source": []
  }
 ],
 "metadata": {
  "kernelspec": {
   "display_name": "okr-evaluation",
   "language": "python",
   "name": "python3"
  },
  "language_info": {
   "codemirror_mode": {
    "name": "ipython",
    "version": 3
   },
   "file_extension": ".py",
   "mimetype": "text/x-python",
   "name": "python",
   "nbconvert_exporter": "python",
   "pygments_lexer": "ipython3",
   "version": "3.11.5"
  },
  "orig_nbformat": 4
 },
 "nbformat": 4,
 "nbformat_minor": 2
}
