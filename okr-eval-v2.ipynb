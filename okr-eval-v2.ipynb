{
 "cells": [
  {
   "cell_type": "code",
   "execution_count": 1,
   "metadata": {},
   "outputs": [],
   "source": [
    "import pandas as pd\n",
    "\n",
    "\n",
    "from constants import okr_excel_path, researcher_info_excel_path, salesperson_info_excel_path\n",
    "from utils import get_df_roadshow, get_sales_name_list, get_sales_name_list\n",
    "from utils import print_na_rate"
   ]
  },
  {
   "cell_type": "code",
   "execution_count": 2,
   "metadata": {},
   "outputs": [],
   "source": [
    "# # Get the Excel file\n",
    "# xls = pd.ExcelFile(excel_path)\n",
    "\n",
    "# # Get sheet names\n",
    "# sheet_names = xls.sheet_names\n",
    "# print(sheet_names)  # e.g., ['Sheet1', 'Sheet2', ...]\n",
    "\n",
    "# # Close the Excel file\n",
    "# xls.close()"
   ]
  },
  {
   "cell_type": "code",
   "execution_count": 3,
   "metadata": {},
   "outputs": [],
   "source": [
    "df_okr = pd.read_excel(okr_excel_path, sheet_name='路演')\n",
    "df_researcher_info = pd.read_excel(researcher_info_excel_path, usecols='A:C')\n",
    "df_salespeople_info =  pd.read_excel(salesperson_info_excel_path)"
   ]
  },
  {
   "cell_type": "code",
   "execution_count": 4,
   "metadata": {},
   "outputs": [],
   "source": [
    "sales_name_list = get_sales_name_list(df_salespeople_info)"
   ]
  },
  {
   "cell_type": "code",
   "execution_count": 5,
   "metadata": {},
   "outputs": [],
   "source": [
    "df_roadshow = get_df_roadshow(df_okr, sales_name_list)"
   ]
  },
  {
   "cell_type": "code",
   "execution_count": 6,
   "metadata": {},
   "outputs": [
    {
     "name": "stdout",
     "output_type": "stream",
     "text": [
      "<class 'pandas.core.frame.DataFrame'>\n",
      "RangeIndex: 3449 entries, 0 to 3448\n",
      "Data columns (total 7 columns):\n",
      " #   Column  Non-Null Count  Dtype \n",
      "---  ------  --------------  ----- \n",
      " 0   序号      3449 non-null   int64 \n",
      " 1   服务事项    3449 non-null   object\n",
      " 2   客户机构    3449 non-null   object\n",
      " 3   客户分级    3449 non-null   object\n",
      " 4   客户区域    3449 non-null   object\n",
      " 5   所属团队    3449 non-null   object\n",
      " 6   研究员     3449 non-null   object\n",
      "dtypes: int64(1), object(6)\n",
      "memory usage: 188.7+ KB\n"
     ]
    }
   ],
   "source": [
    "df_roadshow.info()"
   ]
  },
  {
   "cell_type": "code",
   "execution_count": 7,
   "metadata": {},
   "outputs": [
    {
     "name": "stdout",
     "output_type": "stream",
     "text": [
      "The na rate of the DataFrame is:\n",
      "序号      0.0\n",
      "服务事项    0.0\n",
      "客户机构    0.0\n",
      "客户分级    0.0\n",
      "客户区域    0.0\n",
      "所属团队    0.0\n",
      "研究员     0.0\n",
      "dtype: float64\n"
     ]
    }
   ],
   "source": [
    "print_na_rate(df_roadshow)"
   ]
  },
  {
   "cell_type": "code",
   "execution_count": 8,
   "metadata": {},
   "outputs": [
    {
     "name": "stdout",
     "output_type": "stream",
     "text": [
      "<class 'pandas.core.frame.DataFrame'>\n",
      "RangeIndex: 3449 entries, 0 to 3448\n",
      "Data columns (total 7 columns):\n",
      " #   Column  Non-Null Count  Dtype \n",
      "---  ------  --------------  ----- \n",
      " 0   序号      3449 non-null   int64 \n",
      " 1   服务事项    3449 non-null   object\n",
      " 2   客户机构    3449 non-null   object\n",
      " 3   客户分级    3449 non-null   object\n",
      " 4   客户区域    3449 non-null   object\n",
      " 5   所属团队    3449 non-null   object\n",
      " 6   研究员     3449 non-null   object\n",
      "dtypes: int64(1), object(6)\n",
      "memory usage: 188.7+ KB\n"
     ]
    }
   ],
   "source": [
    "df_roadshow.info()"
   ]
  },
  {
   "cell_type": "code",
   "execution_count": 9,
   "metadata": {},
   "outputs": [],
   "source": [
    "# save to excel with sheetname roadshow without index\n",
    "df_roadshow.to_excel('okr_roadshow_202306.xlsx', sheet_name='roadshow', index=False)"
   ]
  },
  {
   "cell_type": "code",
   "execution_count": null,
   "metadata": {},
   "outputs": [],
   "source": []
  }
 ],
 "metadata": {
  "kernelspec": {
   "display_name": "okr-evaluation",
   "language": "python",
   "name": "python3"
  },
  "language_info": {
   "codemirror_mode": {
    "name": "ipython",
    "version": 3
   },
   "file_extension": ".py",
   "mimetype": "text/x-python",
   "name": "python",
   "nbconvert_exporter": "python",
   "pygments_lexer": "ipython3",
   "version": "3.11.5"
  },
  "orig_nbformat": 4
 },
 "nbformat": 4,
 "nbformat_minor": 2
}
