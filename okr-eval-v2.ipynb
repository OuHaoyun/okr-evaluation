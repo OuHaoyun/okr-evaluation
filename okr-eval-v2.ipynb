{
 "cells": [
  {
   "cell_type": "code",
   "execution_count": 1,
   "metadata": {},
   "outputs": [],
   "source": [
    "import pandas as pd\n",
    "\n",
    "\n",
    "from constants import okr_excel_path, researcher_info_excel_path, salesperson_info_excel_path, output_excel_path\n",
    "from utils import get_df_roadshow, get_sales_name_list, get_sales_name_list, write_dfs_to_excel\n",
    "from utils import print_na_rate, get_df_researcher"
   ]
  },
  {
   "cell_type": "code",
   "execution_count": 2,
   "metadata": {},
   "outputs": [],
   "source": [
    "df_okr = pd.read_excel(okr_excel_path, sheet_name='路演')\n",
    "df_researcher_info = pd.read_excel(researcher_info_excel_path, usecols='A:C')\n",
    "df_salespeople_info =  pd.read_excel(salesperson_info_excel_path)"
   ]
  },
  {
   "cell_type": "code",
   "execution_count": 3,
   "metadata": {},
   "outputs": [],
   "source": [
    "sales_name_list = get_sales_name_list(df_salespeople_info)"
   ]
  },
  {
   "cell_type": "code",
   "execution_count": 4,
   "metadata": {},
   "outputs": [],
   "source": [
    "df_roadshow, df_special = get_df_roadshow(df_okr, sales_name_list)\n",
    "df_researcher = get_df_researcher(df_roadshow)"
   ]
  },
  {
   "cell_type": "code",
   "execution_count": 6,
   "metadata": {},
   "outputs": [],
   "source": [
    "# # Drop the region column\n",
    "# df_without_region = df_researcher.drop(columns=['参与地区', '研究员'])\n",
    "\n",
    "# # Group by and calculate sum, median, and mode\n",
    "# sum_df = df_without_region.groupby('所属团队').sum().reset_index()\n",
    "# median_df = df_without_region.groupby('所属团队').median().reset_index()\n",
    "# mode_df = df_without_region.groupby('所属团队').agg(lambda x: x.mode().iloc[0]).reset_index()\n",
    "\n",
    "# # Merging dataframes\n",
    "# df_team = sum_df.merge(median_df, on='所属团队', suffixes=('_sum', '_median'))\n",
    "# for col in df_team.columns:\n",
    "#     if not col.endswith(('sum', 'median', '所属团队')):\n",
    "#         df_team[col + '_mode'] = mode_df[col]\n",
    "\n",
    "# # Rename the '所属团队' column\n",
    "# df_team.rename(columns={'所属团队': '行业'}, inplace=True)\n",
    "\n",
    "\n"
   ]
  },
  {
   "cell_type": "code",
   "execution_count": 7,
   "metadata": {},
   "outputs": [],
   "source": [
    "dfs_dict = {\n",
    "            'roadshow': df_roadshow,\n",
    "            'special': df_special,\n",
    "            'researcher': df_researcher\n",
    "            }\n",
    "\n",
    "\n",
    "write_dfs_to_excel(dfs_dict, okr_excel_path)"
   ]
  },
  {
   "cell_type": "code",
   "execution_count": null,
   "metadata": {},
   "outputs": [],
   "source": []
  }
 ],
 "metadata": {
  "kernelspec": {
   "display_name": "okr-evaluation",
   "language": "python",
   "name": "python3"
  },
  "language_info": {
   "codemirror_mode": {
    "name": "ipython",
    "version": 3
   },
   "file_extension": ".py",
   "mimetype": "text/x-python",
   "name": "python",
   "nbconvert_exporter": "python",
   "pygments_lexer": "ipython3",
   "version": "3.11.5"
  },
  "orig_nbformat": 4
 },
 "nbformat": 4,
 "nbformat_minor": 2
}
