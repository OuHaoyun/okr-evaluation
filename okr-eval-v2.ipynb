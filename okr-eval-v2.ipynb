{
 "cells": [
  {
   "cell_type": "code",
   "execution_count": 1,
   "metadata": {},
   "outputs": [],
   "source": [
    "import pandas as pd\n",
    "\n",
    "\n",
    "from constants import okr_excel_path, researcher_info_excel_path, salesperson_info_excel_path, output_excel_path\n",
    "from utils import get_sales_name_list, get_sales_name_list, write_dfs_to_excel, print_na_rate\n",
    "from utils import get_df_roadshow, get_df_researcher, get_df_team"
   ]
  },
  {
   "cell_type": "code",
   "execution_count": 2,
   "metadata": {},
   "outputs": [],
   "source": [
    "df_okr = pd.read_excel(okr_excel_path, sheet_name='路演')\n",
    "df_researcher_info = pd.read_excel(researcher_info_excel_path, usecols='A:C')\n",
    "df_salespeople_info =  pd.read_excel(salesperson_info_excel_path)"
   ]
  },
  {
   "cell_type": "code",
   "execution_count": 3,
   "metadata": {},
   "outputs": [],
   "source": [
    "sales_name_list = get_sales_name_list(df_salespeople_info)"
   ]
  },
  {
   "cell_type": "code",
   "execution_count": 4,
   "metadata": {},
   "outputs": [],
   "source": [
    "df_roadshow, df_special = get_df_roadshow(df_okr, sales_name_list)\n",
    "df_researcher = get_df_researcher(df_roadshow)"
   ]
  },
  {
   "cell_type": "code",
   "execution_count": 5,
   "metadata": {},
   "outputs": [],
   "source": [
    "df_team = get_df_team(df_roadshow)"
   ]
  },
  {
   "cell_type": "code",
   "execution_count": 7,
   "metadata": {},
   "outputs": [],
   "source": [
    "dfs_dict = {\n",
    "            'roadshow': df_roadshow,\n",
    "            'special': df_special,\n",
    "            'researcher': df_researcher,\n",
    "            'team': df_team\n",
    "            }\n",
    "\n",
    "write_dfs_to_excel(dfs_dict, okr_excel_path)"
   ]
  },
  {
   "cell_type": "code",
   "execution_count": 22,
   "metadata": {},
   "outputs": [],
   "source": [
    "def get_df_org(df_reseacher):\n",
    "    df_org = pd.DataFrame()\n",
    "\n",
    "    # Get the numeric columns by excluding the first two columns\n",
    "    numeric_columns = df_researcher.columns[2:]\n",
    "\n",
    "    # Iterate through the numeric columns of df_researcher\n",
    "    for column in numeric_columns:\n",
    "        # Sum the column\n",
    "        column_sum = df_researcher[column].sum()\n",
    "        # Create a new row with the column name and sum, and append it to df_org\n",
    "        new_row = pd.DataFrame({'Attribute': [column + '（总计）'], 'Sum': [column_sum]})\n",
    "        df_org = pd.concat([df_org, new_row], ignore_index=True)\n",
    "\n",
    "    # Rename the columns of df_org\n",
    "    df_org = df_org.rename(columns={'Attribute': '汇总指标', 'Sum': '合计值'})\n",
    "\n",
    "    return df_org"
   ]
  },
  {
   "cell_type": "code",
   "execution_count": 23,
   "metadata": {},
   "outputs": [],
   "source": [
    "df_org = get_df_org(df_researcher)"
   ]
  },
  {
   "cell_type": "code",
   "execution_count": 25,
   "metadata": {},
   "outputs": [
    {
     "data": {
      "text/html": [
       "<div>\n",
       "<style scoped>\n",
       "    .dataframe tbody tr th:only-of-type {\n",
       "        vertical-align: middle;\n",
       "    }\n",
       "\n",
       "    .dataframe tbody tr th {\n",
       "        vertical-align: top;\n",
       "    }\n",
       "\n",
       "    .dataframe thead th {\n",
       "        text-align: right;\n",
       "    }\n",
       "</style>\n",
       "<table border=\"1\" class=\"dataframe\">\n",
       "  <thead>\n",
       "    <tr style=\"text-align: right;\">\n",
       "      <th></th>\n",
       "      <th>汇总指标</th>\n",
       "      <th>合计值</th>\n",
       "    </tr>\n",
       "  </thead>\n",
       "  <tbody>\n",
       "    <tr>\n",
       "      <th>0</th>\n",
       "      <td>总路演次数（总计）</td>\n",
       "      <td>2702.0</td>\n",
       "    </tr>\n",
       "    <tr>\n",
       "      <th>1</th>\n",
       "      <td>客户内外部策略会（总计）</td>\n",
       "      <td>3.0</td>\n",
       "    </tr>\n",
       "    <tr>\n",
       "      <th>2</th>\n",
       "      <td>晨会接入（总计）</td>\n",
       "      <td>16.0</td>\n",
       "    </tr>\n",
       "    <tr>\n",
       "      <th>3</th>\n",
       "      <td>路演-专家路演（总计）</td>\n",
       "      <td>149.0</td>\n",
       "    </tr>\n",
       "    <tr>\n",
       "      <th>4</th>\n",
       "      <td>路演-反路演(董事长/总经理)（总计）</td>\n",
       "      <td>22.0</td>\n",
       "    </tr>\n",
       "    <tr>\n",
       "      <th>5</th>\n",
       "      <td>路演-反路演(董秘/IR)（总计）</td>\n",
       "      <td>302.0</td>\n",
       "    </tr>\n",
       "    <tr>\n",
       "      <th>6</th>\n",
       "      <td>路演-线上路演（总计）</td>\n",
       "      <td>798.0</td>\n",
       "    </tr>\n",
       "    <tr>\n",
       "      <th>7</th>\n",
       "      <td>路演-线下路演（总计）</td>\n",
       "      <td>1139.0</td>\n",
       "    </tr>\n",
       "    <tr>\n",
       "      <th>8</th>\n",
       "      <td>路演-餐叙路演（总计）</td>\n",
       "      <td>273.0</td>\n",
       "    </tr>\n",
       "    <tr>\n",
       "      <th>9</th>\n",
       "      <td>54A路演次数（总计）</td>\n",
       "      <td>1901.0</td>\n",
       "    </tr>\n",
       "    <tr>\n",
       "      <th>10</th>\n",
       "      <td>上海（总计）</td>\n",
       "      <td>1316.0</td>\n",
       "    </tr>\n",
       "    <tr>\n",
       "      <th>11</th>\n",
       "      <td>北京（总计）</td>\n",
       "      <td>785.0</td>\n",
       "    </tr>\n",
       "    <tr>\n",
       "      <th>12</th>\n",
       "      <td>广深（总计）</td>\n",
       "      <td>547.0</td>\n",
       "    </tr>\n",
       "  </tbody>\n",
       "</table>\n",
       "</div>"
      ],
      "text/plain": [
       "                   汇总指标     合计值\n",
       "0             总路演次数（总计）  2702.0\n",
       "1          客户内外部策略会（总计）     3.0\n",
       "2              晨会接入（总计）    16.0\n",
       "3           路演-专家路演（总计）   149.0\n",
       "4   路演-反路演(董事长/总经理)（总计）    22.0\n",
       "5     路演-反路演(董秘/IR)（总计）   302.0\n",
       "6           路演-线上路演（总计）   798.0\n",
       "7           路演-线下路演（总计）  1139.0\n",
       "8           路演-餐叙路演（总计）   273.0\n",
       "9           54A路演次数（总计）  1901.0\n",
       "10               上海（总计）  1316.0\n",
       "11               北京（总计）   785.0\n",
       "12               广深（总计）   547.0"
      ]
     },
     "execution_count": 25,
     "metadata": {},
     "output_type": "execute_result"
    }
   ],
   "source": [
    "df_org"
   ]
  }
 ],
 "metadata": {
  "kernelspec": {
   "display_name": "okr-evaluation",
   "language": "python",
   "name": "python3"
  },
  "language_info": {
   "codemirror_mode": {
    "name": "ipython",
    "version": 3
   },
   "file_extension": ".py",
   "mimetype": "text/x-python",
   "name": "python",
   "nbconvert_exporter": "python",
   "pygments_lexer": "ipython3",
   "version": "3.11.5"
  },
  "orig_nbformat": 4
 },
 "nbformat": 4,
 "nbformat_minor": 2
}
